{
 "cells": [
  {
   "cell_type": "code",
   "execution_count": 55,
   "id": "f334a9e7-7578-4d51-9612-f4c948e2e55c",
   "metadata": {
    "execution": {
     "iopub.execute_input": "2023-04-07T15:04:27.111386Z",
     "iopub.status.busy": "2023-04-07T15:04:27.111059Z",
     "iopub.status.idle": "2023-04-07T15:04:27.124609Z",
     "shell.execute_reply": "2023-04-07T15:04:27.124020Z",
     "shell.execute_reply.started": "2023-04-07T15:04:27.111358Z"
    },
    "tags": []
   },
   "outputs": [],
   "source": [
    "import diffrax\n",
    "import equinox as eqx\n",
    "import jax.random as jrand\n",
    "import jax.numpy as jnp\n",
    "import jax.scipy as jsp\n",
    "from jax import random, vmap, jit, lax, nn, Array\n",
    "\n",
    "# Define the Sobel kernels\n",
    "sobel_x = jnp.array([[-1, 0, 1], [-2, 0, 2], [-1, 0, 1]])\n",
    "sobel_y = jnp.array([[-1, -2, -1], [0, 0, 0], [1, 2, 1]])\n",
    "\n",
    "num_channels = 16\n",
    "hidden_channels = 64\n",
    "init_size = 40\n",
    "padding = 16\n",
    "\n",
    "initializer = nn.initializers.normal(0.0005)\n",
    "\n",
    "def upd_filt(x, y):\n",
    "    return (1-y)*nn.sigmoid(32*x)+y*nn.sigmoid(-32*x)\n",
    "    \n",
    "class update(eqx.Module):\n",
    "    mlp: list\n",
    "    lz: eqx.Module\n",
    "    #gate: list\n",
    "\n",
    "    def __init__(self, key, **kwargs):\n",
    "        super().__init__(**kwargs)\n",
    "        key1, key2, key3 = random.split(key, 3) \n",
    "        self.lz = eqx.nn.Linear(hidden_channels, num_channels, key=key2, use_bias=False)\n",
    "        self.lz = eqx.tree_at(lambda l: l.weight, self.lz, initializer(random.PRNGKey(42), self.lz.weight.shape, jnp.float32))\n",
    "        self.mlp =  [eqx.nn.Linear(3 * num_channels, hidden_channels, key=key1, use_bias=False),\n",
    "                    nn.swish,\n",
    "                    self.lz,\n",
    "                    nn.tanh]\n",
    "        #self.gate =  [eqx.nn.Linear(48, hidden_channels, key=key2, use_bias=False),\n",
    "         #           nn.swish,\n",
    "          #          eqx.nn.Linear(hidden_channels, num_channels, key=key3, use_bias=False),\n",
    "           #         nn.sigmoid]\n",
    "\n",
    "        \n",
    "    def __call__(self, t, y, args):\n",
    "        dx = jsp.signal.convolve(y, sobel_x[...,None], mode='same', method='auto', precision=None)\n",
    "        dy = jsp.signal.convolve(y, sobel_y[...,None], mode='same', method='auto', precision=None)\n",
    "        perceive = jnp.concatenate([dx, dy, y], axis=-1)\n",
    "        perceive = jnp.reshape(perceive, (-1, 3 * num_channels))\n",
    "        print(perceive.shape)\n",
    "        for layer in self.mlp:\n",
    "            x = vmap(layer)(perceive)\n",
    "        #for layer2 in self.gate:\n",
    "         #   gate = vmap(layer2)(perceive)\n",
    "        #gate = jnp.reshape(gate, (72, 72, num_channels))\n",
    "        x = jnp.reshape(x, (72, 72, num_channels))\n",
    "        return x * upd_filt(x, y) \n",
    "        #return x\n",
    "\n",
    "\n",
    "class CoTiNCA(eqx.Module):\n",
    "    func: eqx.Module\n",
    "\n",
    "    def __init__(self, *, key, **kwargs):\n",
    "        super().__init__(**kwargs)\n",
    "        self.func = update(key)\n",
    "\n",
    "    def __call__(self, ts, y0):\n",
    "        solution = diffrax.diffeqsolve(\n",
    "            diffrax.ODETerm(self.func),\n",
    "            diffrax.Tsit5(),\n",
    "            t0=ts[0],\n",
    "            t1=ts[-1],\n",
    "            dt0=ts[1] - ts[0],\n",
    "            y0=y0,\n",
    "            stepsize_controller=diffrax.PIDController(rtol=1e-3, atol=1e-6),\n",
    "            saveat=diffrax.SaveAt(ts=ts),\n",
    "        )\n",
    "        return solution.ys\n"
   ]
  },
  {
   "cell_type": "code",
   "execution_count": 68,
   "id": "454fdc40-e698-461d-a697-eb5779a37124",
   "metadata": {
    "execution": {
     "iopub.execute_input": "2023-03-30T11:49:14.211404Z",
     "iopub.status.busy": "2023-03-30T11:49:14.211106Z",
     "iopub.status.idle": "2023-03-30T11:49:14.216056Z",
     "shell.execute_reply": "2023-03-30T11:49:14.215077Z",
     "shell.execute_reply.started": "2023-03-30T11:49:14.211387Z"
    }
   },
   "outputs": [
    {
     "data": {
      "text/plain": [
       "(72, 72, 4)"
      ]
     },
     "execution_count": 68,
     "metadata": {},
     "output_type": "execute_result"
    }
   ],
   "source": [
    "target_img.shape"
   ]
  },
  {
   "cell_type": "code",
   "execution_count": null,
   "id": "621a93bf-4301-4453-b393-817f56cecb3b",
   "metadata": {
    "tags": []
   },
   "outputs": [],
   "source": [
    "import requests\n",
    "import PIL.Image, PIL.ImageDraw\n",
    "import io\n",
    "import numpy as np\n",
    "init_size = 40\n",
    "\n",
    "def load_image(url, max_size=init_size):\n",
    "    r = requests.get(url)\n",
    "    img = PIL.Image.open(io.BytesIO(r.content))\n",
    "    img.thumbnail((max_size, max_size), PIL.Image.ANTIALIAS)\n",
    "    img = np.float32(img)/255.0\n",
    "    # premultiply RGB by Alpha\n",
    "    img[..., :3] *= img[..., 3:]\n",
    "    return img\n",
    "\n",
    "def load_emoji(emoji):\n",
    "    code = hex(ord(emoji))[2:].lower()\n",
    "    url = 'https://github.com/googlefonts/noto-emoji/blob/main/png/128/emoji_u%s.png?raw=true'%code\n",
    "    return load_image(url)\n",
    "\n",
    "#target_img = load_emoji(\"🍇\")\n",
    "#target_img = load_emoji(\"🕌\")\n",
    "target_img = load_emoji(\"🍓\")\n",
    "#target_img = load_emoji(\"⚓\")\n",
    "\n",
    "#target_img = load_emoji(\"😅\")\n",
    "#target_img = load_emoji(\"🦪\")\n",
    "\n",
    "target_img = jnp.pad(target_img,[(padding,padding),(padding,padding),(0,0)])"
   ]
  },
  {
   "cell_type": "code",
   "execution_count": 16,
   "id": "8be7fe7f-192f-4fa2-a418-0a0c142e082a",
   "metadata": {
    "execution": {
     "iopub.execute_input": "2023-04-07T14:51:22.999315Z",
     "iopub.status.busy": "2023-04-07T14:51:22.999102Z",
     "iopub.status.idle": "2023-04-07T14:51:23.001825Z",
     "shell.execute_reply": "2023-04-07T14:51:23.001382Z",
     "shell.execute_reply.started": "2023-04-07T14:51:22.999299Z"
    }
   },
   "outputs": [],
   "source": [
    "import numpy as np"
   ]
  },
  {
   "cell_type": "code",
   "execution_count": 21,
   "id": "3adef6dd-8975-424e-9b84-5065a9c995d9",
   "metadata": {
    "execution": {
     "iopub.execute_input": "2023-04-07T14:52:04.238766Z",
     "iopub.status.busy": "2023-04-07T14:52:04.238400Z",
     "iopub.status.idle": "2023-04-07T14:52:04.337216Z",
     "shell.execute_reply": "2023-04-07T14:52:04.336763Z",
     "shell.execute_reply.started": "2023-04-07T14:52:04.238734Z"
    },
    "tags": []
   },
   "outputs": [
    {
     "data": {
      "text/plain": [
       "(72, 72, 16)"
      ]
     },
     "execution_count": 21,
     "metadata": {},
     "output_type": "execute_result"
    }
   ],
   "source": [
    "import matplotlib.pyplot as plt\n",
    "import optax, time\n",
    "\n",
    "target_img = jnp.pad(target_img,[(padding,padding),(padding,padding),(0,0)])\n",
    "\n",
    "x_key, y_key, model_key = jrand.split(jrand.PRNGKey(0), 3)\n",
    "\n",
    "init_config = jnp.array([[0,1,0,1,0.2],[0,0,1,1,0.2],[0.3,0.4,0,0.2,0],[0,1,0.6,1,0.2],[0,0,1,0,0.2]])\n",
    "init_config = jnp.tile(init_config[...,None],reps=(1,1,num_channels))\n",
    "\n",
    "seed = jnp.pad(target_img,[(0,0),(0,0),(0,12)])\n",
    "h, w = seed.shape[:2]\n",
    "seed2 = np.zeros([h, w, num_channels], np.float32)\n",
    "seed2[h//2, w//2, 3:] = 1.0\n",
    "seed2 = jnp.array(seed2)\n",
    "#cells = model(jnp.array([0,1,2,3,4,5,6,7]),seed)\n",
    "\n",
    "ts = jnp.array([0,1,2,3,4,5,6,7])\n",
    "\n",
    "seed2.shape"
   ]
  },
  {
   "cell_type": "code",
   "execution_count": 22,
   "id": "5bd81624-5f7d-4810-905b-64739b3d703b",
   "metadata": {
    "execution": {
     "iopub.execute_input": "2023-04-07T14:52:07.289206Z",
     "iopub.status.busy": "2023-04-07T14:52:07.288817Z",
     "iopub.status.idle": "2023-04-07T14:52:07.671976Z",
     "shell.execute_reply": "2023-04-07T14:52:07.671441Z",
     "shell.execute_reply.started": "2023-04-07T14:52:07.289173Z"
    },
    "tags": []
   },
   "outputs": [
    {
     "data": {
      "image/png": "[encoded data removed]",
      "text/plain": [
       "<Figure size 640x480 with 1 Axes>"
      ]
     },
     "metadata": {},
     "output_type": "display_data"
    }
   ],
   "source": [
    "plt.imshow(seed[...,:4])\n",
    "empty_mask = jnp.sum(seed,axis=-1)<0.02\n",
    "#plt.imshow(empty_mask)\n",
    "#plt.imshow((seed*empty_mask[...,None])[...,:4])"
   ]
  },
  {
   "cell_type": "code",
   "execution_count": 28,
   "id": "f6e6dd25-baa4-420e-bd32-c6ca88ece7ec",
   "metadata": {
    "execution": {
     "iopub.execute_input": "2023-04-07T14:53:26.850415Z",
     "iopub.status.busy": "2023-04-07T14:53:26.850069Z",
     "iopub.status.idle": "2023-04-07T14:53:26.855760Z",
     "shell.execute_reply": "2023-04-07T14:53:26.855301Z",
     "shell.execute_reply.started": "2023-04-07T14:53:26.850387Z"
    },
    "tags": []
   },
   "outputs": [],
   "source": [
    "def loss(out, target):\n",
    "    recon_loss2 = jnp.mean((out[...,:4]-target[...,:4])**2)\n",
    "    recon_loss1 = jnp.mean(jnp.abs(out[...,:4]-target[...,:4]))\n",
    "    empty_penalty = jnp.mean((out*empty_mask[...,None])**2)\n",
    "    return 0.2*recon_loss2+0.8*recon_loss1+empty_penalty\n",
    "\n",
    "@eqx.filter_value_and_grad\n",
    "def grad_loss(model, ts, inits, target):\n",
    "   # outs = vmap(model,in_axes=(None,0))(ts,inits)\n",
    "    #outs = jnp.concatenate(outs, axis=0)\n",
    "    outs = model(ts,inits)\n",
    "    outs2 = model(ts[::2],target)\n",
    "    outs = jnp.concatenate([outs,outs2],axis=0)\n",
    "    return jnp.mean(vmap(jit(loss), in_axes=(0,None))(outs, target))\n",
    "\n",
    "#jnp.array([0,1,2,3,4,5,6,7])[None][0]\n",
    "\n",
    "\n",
    "@eqx.filter_jit\n",
    "def make_step(ts, inits, target, model, opt_state):\n",
    "        loss, grads = grad_loss(model, ts, inits, target)\n",
    "        updates, opt_state = optim.update(grads, opt_state)\n",
    "        model = eqx.apply_updates(model, updates)\n",
    "        return loss, model, opt_state"
   ]
  },
  {
   "cell_type": "code",
   "execution_count": 31,
   "id": "9a81183f-75f3-4916-b0c8-fc2b44d17cfb",
   "metadata": {
    "execution": {
     "iopub.execute_input": "2023-04-07T14:55:39.214137Z",
     "iopub.status.busy": "2023-04-07T14:55:39.213780Z",
     "iopub.status.idle": "2023-04-07T14:55:39.398778Z",
     "shell.execute_reply": "2023-04-07T14:55:39.398033Z",
     "shell.execute_reply.started": "2023-04-07T14:55:39.214105Z"
    },
    "tags": []
   },
   "outputs": [
    {
     "ename": "TypeError",
     "evalue": "dot_general requires contracting dimensions to have the same shape, got (64,) and (48,).",
     "output_type": "error",
     "traceback": [
      "\u001b[0;31m---------------------------------------------------------------------------\u001b[0m",
      "\u001b[0;31mTypeError\u001b[0m                                 Traceback (most recent call last)",
      "Cell \u001b[0;32mIn[31], line 16\u001b[0m\n\u001b[1;32m     13\u001b[0m \u001b[38;5;28;01mfor\u001b[39;00m i \u001b[38;5;129;01min\u001b[39;00m \u001b[38;5;28mrange\u001b[39m(steps):\n\u001b[1;32m     14\u001b[0m     \u001b[38;5;66;03m#n_key, x_key = random.split(x_key, 2)\u001b[39;00m\n\u001b[1;32m     15\u001b[0m     ts \u001b[38;5;241m=\u001b[39m jnp\u001b[38;5;241m.\u001b[39msort(jrand\u001b[38;5;241m.\u001b[39muniform(x_key, shape\u001b[38;5;241m=\u001b[39m(\u001b[38;5;241m36\u001b[39m,),minval\u001b[38;5;241m=\u001b[39mminv,maxval\u001b[38;5;241m=\u001b[39mmaxv))\n\u001b[0;32m---> 16\u001b[0m     loss_v, model1, opt_state \u001b[38;5;241m=\u001b[39m \u001b[43mmake_step\u001b[49m\u001b[43m(\u001b[49m\u001b[43mts\u001b[49m\u001b[43m,\u001b[49m\u001b[43m \u001b[49m\u001b[43mseed2\u001b[49m\u001b[43m,\u001b[49m\u001b[43m \u001b[49m\u001b[43mseed\u001b[49m\u001b[43m,\u001b[49m\u001b[43m \u001b[49m\u001b[43mmodel1\u001b[49m\u001b[43m,\u001b[49m\u001b[43m \u001b[49m\u001b[43mopt_state\u001b[49m\u001b[43m)\u001b[49m\n\u001b[1;32m     17\u001b[0m     \u001b[38;5;28;01mif\u001b[39;00m i\u001b[38;5;241m%\u001b[39m\u001b[38;5;241m10\u001b[39m \u001b[38;5;241m==\u001b[39m \u001b[38;5;241m1\u001b[39m: \n\u001b[1;32m     18\u001b[0m         \u001b[38;5;28mprint\u001b[39m(i, loss_v)\n",
      "File \u001b[0;32m/output/jax/lib/python3.10/site-packages/equinox/jit.py:70\u001b[0m, in \u001b[0;36m_JitWrapper.__call__\u001b[0;34m(self, *args, **kwargs)\u001b[0m\n\u001b[1;32m     68\u001b[0m         \u001b[38;5;28;01mreturn\u001b[39;00m \u001b[38;5;28mself\u001b[39m\u001b[38;5;241m.\u001b[39m_fun_wrapper(\u001b[38;5;28;01mFalse\u001b[39;00m, args, kwargs)\n\u001b[1;32m     69\u001b[0m \u001b[38;5;28;01melse\u001b[39;00m:\n\u001b[0;32m---> 70\u001b[0m     \u001b[38;5;28;01mreturn\u001b[39;00m \u001b[38;5;28;43mself\u001b[39;49m\u001b[38;5;241;43m.\u001b[39;49m\u001b[43m_fun_wrapper\u001b[49m\u001b[43m(\u001b[49m\u001b[38;5;28;43;01mFalse\u001b[39;49;00m\u001b[43m,\u001b[49m\u001b[43m \u001b[49m\u001b[43margs\u001b[49m\u001b[43m,\u001b[49m\u001b[43m \u001b[49m\u001b[43mkwargs\u001b[49m\u001b[43m)\u001b[49m\n",
      "File \u001b[0;32m/output/jax/lib/python3.10/site-packages/equinox/jit.py:59\u001b[0m, in \u001b[0;36m_JitWrapper._fun_wrapper\u001b[0;34m(self, is_lower, args, kwargs)\u001b[0m\n\u001b[1;32m     57\u001b[0m     \u001b[38;5;28;01mreturn\u001b[39;00m \u001b[38;5;28mself\u001b[39m\u001b[38;5;241m.\u001b[39m_cached\u001b[38;5;241m.\u001b[39mlower(dynamic, static)\n\u001b[1;32m     58\u001b[0m \u001b[38;5;28;01melse\u001b[39;00m:\n\u001b[0;32m---> 59\u001b[0m     dynamic_out, static_out \u001b[38;5;241m=\u001b[39m \u001b[38;5;28;43mself\u001b[39;49m\u001b[38;5;241;43m.\u001b[39;49m\u001b[43m_cached\u001b[49m\u001b[43m(\u001b[49m\u001b[43mdynamic\u001b[49m\u001b[43m,\u001b[49m\u001b[43m \u001b[49m\u001b[43mstatic\u001b[49m\u001b[43m)\u001b[49m\n\u001b[1;32m     60\u001b[0m     \u001b[38;5;28;01mreturn\u001b[39;00m combine(dynamic_out, static_out\u001b[38;5;241m.\u001b[39mvalue)\n",
      "    \u001b[0;31m[... skipping hidden 12 frame]\u001b[0m\n",
      "File \u001b[0;32m/output/jax/lib/python3.10/site-packages/equinox/jit.py:30\u001b[0m, in \u001b[0;36m_filter_jit_cache.<locals>.fun_wrapped\u001b[0;34m(dynamic, static)\u001b[0m\n\u001b[1;32m     28\u001b[0m fun \u001b[38;5;241m=\u001b[39m hashable_combine(dynamic_fun, static_fun)\n\u001b[1;32m     29\u001b[0m args, kwargs \u001b[38;5;241m=\u001b[39m hashable_combine(dynamic_spec, static_spec)\n\u001b[0;32m---> 30\u001b[0m out \u001b[38;5;241m=\u001b[39m \u001b[43mfun\u001b[49m\u001b[43m(\u001b[49m\u001b[38;5;241;43m*\u001b[39;49m\u001b[43margs\u001b[49m\u001b[43m,\u001b[49m\u001b[43m \u001b[49m\u001b[38;5;241;43m*\u001b[39;49m\u001b[38;5;241;43m*\u001b[39;49m\u001b[43mkwargs\u001b[49m\u001b[43m)\u001b[49m\n\u001b[1;32m     31\u001b[0m dynamic_out, static_out \u001b[38;5;241m=\u001b[39m partition(out, is_array)\n\u001b[1;32m     32\u001b[0m \u001b[38;5;28;01mreturn\u001b[39;00m dynamic_out, Static(static_out)\n",
      "Cell \u001b[0;32mIn[28], line 21\u001b[0m, in \u001b[0;36mmake_step\u001b[0;34m(ts, inits, target, model, opt_state)\u001b[0m\n\u001b[1;32m     19\u001b[0m \u001b[38;5;129m@eqx\u001b[39m\u001b[38;5;241m.\u001b[39mfilter_jit\n\u001b[1;32m     20\u001b[0m \u001b[38;5;28;01mdef\u001b[39;00m \u001b[38;5;21mmake_step\u001b[39m(ts, inits, target, model, opt_state):\n\u001b[0;32m---> 21\u001b[0m         loss, grads \u001b[38;5;241m=\u001b[39m \u001b[43mgrad_loss\u001b[49m\u001b[43m(\u001b[49m\u001b[43mmodel\u001b[49m\u001b[43m,\u001b[49m\u001b[43m \u001b[49m\u001b[43mts\u001b[49m\u001b[43m,\u001b[49m\u001b[43m \u001b[49m\u001b[43minits\u001b[49m\u001b[43m,\u001b[49m\u001b[43m \u001b[49m\u001b[43mtarget\u001b[49m\u001b[43m)\u001b[49m\n\u001b[1;32m     22\u001b[0m         updates, opt_state \u001b[38;5;241m=\u001b[39m optim\u001b[38;5;241m.\u001b[39mupdate(grads, opt_state)\n\u001b[1;32m     23\u001b[0m         model \u001b[38;5;241m=\u001b[39m eqx\u001b[38;5;241m.\u001b[39mapply_updates(model, updates)\n",
      "File \u001b[0;32m/output/jax/lib/python3.10/site-packages/equinox/ad.py:37\u001b[0m, in \u001b[0;36m_ValueAndGradWrapper.__call__\u001b[0;34m(self, x, *args, **kwargs)\u001b[0m\n\u001b[1;32m     34\u001b[0m     \u001b[38;5;28;01mreturn\u001b[39;00m \u001b[38;5;28mself\u001b[39m\u001b[38;5;241m.\u001b[39m_fun(_x, \u001b[38;5;241m*\u001b[39m_args, \u001b[38;5;241m*\u001b[39m\u001b[38;5;241m*\u001b[39m_kwargs)\n\u001b[1;32m     36\u001b[0m diff_x, nondiff_x \u001b[38;5;241m=\u001b[39m partition(x, is_inexact_array)\n\u001b[0;32m---> 37\u001b[0m \u001b[38;5;28;01mreturn\u001b[39;00m \u001b[43mfun_value_and_grad\u001b[49m\u001b[43m(\u001b[49m\u001b[43mdiff_x\u001b[49m\u001b[43m,\u001b[49m\u001b[43m \u001b[49m\u001b[43mnondiff_x\u001b[49m\u001b[43m,\u001b[49m\u001b[43m \u001b[49m\u001b[38;5;241;43m*\u001b[39;49m\u001b[43margs\u001b[49m\u001b[43m,\u001b[49m\u001b[43m \u001b[49m\u001b[38;5;241;43m*\u001b[39;49m\u001b[38;5;241;43m*\u001b[39;49m\u001b[43mkwargs\u001b[49m\u001b[43m)\u001b[49m\n",
      "    \u001b[0;31m[... skipping hidden 8 frame]\u001b[0m\n",
      "File \u001b[0;32m/output/jax/lib/python3.10/site-packages/equinox/ad.py:34\u001b[0m, in \u001b[0;36m_ValueAndGradWrapper.__call__.<locals>.fun_value_and_grad\u001b[0;34m(_diff_x, _nondiff_x, *_args, **_kwargs)\u001b[0m\n\u001b[1;32m     31\u001b[0m \u001b[38;5;129m@ft\u001b[39m\u001b[38;5;241m.\u001b[39mpartial(jax\u001b[38;5;241m.\u001b[39mvalue_and_grad, has_aux\u001b[38;5;241m=\u001b[39m\u001b[38;5;28mself\u001b[39m\u001b[38;5;241m.\u001b[39m_has_aux, \u001b[38;5;241m*\u001b[39m\u001b[38;5;241m*\u001b[39m\u001b[38;5;28mself\u001b[39m\u001b[38;5;241m.\u001b[39m_gradkwargs)\n\u001b[1;32m     32\u001b[0m \u001b[38;5;28;01mdef\u001b[39;00m \u001b[38;5;21mfun_value_and_grad\u001b[39m(_diff_x, _nondiff_x, \u001b[38;5;241m*\u001b[39m_args, \u001b[38;5;241m*\u001b[39m\u001b[38;5;241m*\u001b[39m_kwargs):\n\u001b[1;32m     33\u001b[0m     _x \u001b[38;5;241m=\u001b[39m combine(_diff_x, _nondiff_x)\n\u001b[0;32m---> 34\u001b[0m     \u001b[38;5;28;01mreturn\u001b[39;00m \u001b[38;5;28;43mself\u001b[39;49m\u001b[38;5;241;43m.\u001b[39;49m\u001b[43m_fun\u001b[49m\u001b[43m(\u001b[49m\u001b[43m_x\u001b[49m\u001b[43m,\u001b[49m\u001b[43m \u001b[49m\u001b[38;5;241;43m*\u001b[39;49m\u001b[43m_args\u001b[49m\u001b[43m,\u001b[49m\u001b[43m \u001b[49m\u001b[38;5;241;43m*\u001b[39;49m\u001b[38;5;241;43m*\u001b[39;49m\u001b[43m_kwargs\u001b[49m\u001b[43m)\u001b[49m\n",
      "Cell \u001b[0;32mIn[28], line 11\u001b[0m, in \u001b[0;36mgrad_loss\u001b[0;34m(model, ts, inits, target)\u001b[0m\n\u001b[1;32m      7\u001b[0m \u001b[38;5;129m@eqx\u001b[39m\u001b[38;5;241m.\u001b[39mfilter_value_and_grad\n\u001b[1;32m      8\u001b[0m \u001b[38;5;28;01mdef\u001b[39;00m \u001b[38;5;21mgrad_loss\u001b[39m(model, ts, inits, target):\n\u001b[1;32m      9\u001b[0m    \u001b[38;5;66;03m# outs = vmap(model,in_axes=(None,0))(ts,inits)\u001b[39;00m\n\u001b[1;32m     10\u001b[0m     \u001b[38;5;66;03m#outs = jnp.concatenate(outs, axis=0)\u001b[39;00m\n\u001b[0;32m---> 11\u001b[0m     outs \u001b[38;5;241m=\u001b[39m \u001b[43mmodel\u001b[49m\u001b[43m(\u001b[49m\u001b[43mts\u001b[49m\u001b[43m,\u001b[49m\u001b[43minits\u001b[49m\u001b[43m)\u001b[49m\n\u001b[1;32m     12\u001b[0m     outs2 \u001b[38;5;241m=\u001b[39m model(ts[::\u001b[38;5;241m2\u001b[39m],target)\n\u001b[1;32m     13\u001b[0m     outs \u001b[38;5;241m=\u001b[39m jnp\u001b[38;5;241m.\u001b[39mconcatenate([outs,outs2],axis\u001b[38;5;241m=\u001b[39m\u001b[38;5;241m0\u001b[39m)\n",
      "Cell \u001b[0;32mIn[30], line 65\u001b[0m, in \u001b[0;36mCoTiNCA.__call__\u001b[0;34m(self, ts, y0)\u001b[0m\n\u001b[1;32m     64\u001b[0m \u001b[38;5;28;01mdef\u001b[39;00m \u001b[38;5;21m__call__\u001b[39m(\u001b[38;5;28mself\u001b[39m, ts, y0):\n\u001b[0;32m---> 65\u001b[0m     solution \u001b[38;5;241m=\u001b[39m \u001b[43mdiffrax\u001b[49m\u001b[38;5;241;43m.\u001b[39;49m\u001b[43mdiffeqsolve\u001b[49m\u001b[43m(\u001b[49m\n\u001b[1;32m     66\u001b[0m \u001b[43m        \u001b[49m\u001b[43mdiffrax\u001b[49m\u001b[38;5;241;43m.\u001b[39;49m\u001b[43mODETerm\u001b[49m\u001b[43m(\u001b[49m\u001b[38;5;28;43mself\u001b[39;49m\u001b[38;5;241;43m.\u001b[39;49m\u001b[43mfunc\u001b[49m\u001b[43m)\u001b[49m\u001b[43m,\u001b[49m\n\u001b[1;32m     67\u001b[0m \u001b[43m        \u001b[49m\u001b[43mdiffrax\u001b[49m\u001b[38;5;241;43m.\u001b[39;49m\u001b[43mTsit5\u001b[49m\u001b[43m(\u001b[49m\u001b[43m)\u001b[49m\u001b[43m,\u001b[49m\n\u001b[1;32m     68\u001b[0m \u001b[43m        \u001b[49m\u001b[43mt0\u001b[49m\u001b[38;5;241;43m=\u001b[39;49m\u001b[43mts\u001b[49m\u001b[43m[\u001b[49m\u001b[38;5;241;43m0\u001b[39;49m\u001b[43m]\u001b[49m\u001b[43m,\u001b[49m\n\u001b[1;32m     69\u001b[0m \u001b[43m        \u001b[49m\u001b[43mt1\u001b[49m\u001b[38;5;241;43m=\u001b[39;49m\u001b[43mts\u001b[49m\u001b[43m[\u001b[49m\u001b[38;5;241;43m-\u001b[39;49m\u001b[38;5;241;43m1\u001b[39;49m\u001b[43m]\u001b[49m\u001b[43m,\u001b[49m\n\u001b[1;32m     70\u001b[0m \u001b[43m        \u001b[49m\u001b[43mdt0\u001b[49m\u001b[38;5;241;43m=\u001b[39;49m\u001b[43mts\u001b[49m\u001b[43m[\u001b[49m\u001b[38;5;241;43m1\u001b[39;49m\u001b[43m]\u001b[49m\u001b[43m \u001b[49m\u001b[38;5;241;43m-\u001b[39;49m\u001b[43m \u001b[49m\u001b[43mts\u001b[49m\u001b[43m[\u001b[49m\u001b[38;5;241;43m0\u001b[39;49m\u001b[43m]\u001b[49m\u001b[43m,\u001b[49m\n\u001b[1;32m     71\u001b[0m \u001b[43m        \u001b[49m\u001b[43my0\u001b[49m\u001b[38;5;241;43m=\u001b[39;49m\u001b[43my0\u001b[49m\u001b[43m,\u001b[49m\n\u001b[1;32m     72\u001b[0m \u001b[43m        \u001b[49m\u001b[43mstepsize_controller\u001b[49m\u001b[38;5;241;43m=\u001b[39;49m\u001b[43mdiffrax\u001b[49m\u001b[38;5;241;43m.\u001b[39;49m\u001b[43mPIDController\u001b[49m\u001b[43m(\u001b[49m\u001b[43mrtol\u001b[49m\u001b[38;5;241;43m=\u001b[39;49m\u001b[38;5;241;43m1e-3\u001b[39;49m\u001b[43m,\u001b[49m\u001b[43m \u001b[49m\u001b[43matol\u001b[49m\u001b[38;5;241;43m=\u001b[39;49m\u001b[38;5;241;43m1e-6\u001b[39;49m\u001b[43m)\u001b[49m\u001b[43m,\u001b[49m\n\u001b[1;32m     73\u001b[0m \u001b[43m        \u001b[49m\u001b[43msaveat\u001b[49m\u001b[38;5;241;43m=\u001b[39;49m\u001b[43mdiffrax\u001b[49m\u001b[38;5;241;43m.\u001b[39;49m\u001b[43mSaveAt\u001b[49m\u001b[43m(\u001b[49m\u001b[43mts\u001b[49m\u001b[38;5;241;43m=\u001b[39;49m\u001b[43mts\u001b[49m\u001b[43m)\u001b[49m\u001b[43m,\u001b[49m\n\u001b[1;32m     74\u001b[0m \u001b[43m    \u001b[49m\u001b[43m)\u001b[49m\n\u001b[1;32m     75\u001b[0m     \u001b[38;5;28;01mreturn\u001b[39;00m solution\u001b[38;5;241m.\u001b[39mys\n",
      "File \u001b[0;32m/output/jax/lib/python3.10/site-packages/equinox/jit.py:70\u001b[0m, in \u001b[0;36m_JitWrapper.__call__\u001b[0;34m(self, *args, **kwargs)\u001b[0m\n\u001b[1;32m     68\u001b[0m         \u001b[38;5;28;01mreturn\u001b[39;00m \u001b[38;5;28mself\u001b[39m\u001b[38;5;241m.\u001b[39m_fun_wrapper(\u001b[38;5;28;01mFalse\u001b[39;00m, args, kwargs)\n\u001b[1;32m     69\u001b[0m \u001b[38;5;28;01melse\u001b[39;00m:\n\u001b[0;32m---> 70\u001b[0m     \u001b[38;5;28;01mreturn\u001b[39;00m \u001b[38;5;28;43mself\u001b[39;49m\u001b[38;5;241;43m.\u001b[39;49m\u001b[43m_fun_wrapper\u001b[49m\u001b[43m(\u001b[49m\u001b[38;5;28;43;01mFalse\u001b[39;49;00m\u001b[43m,\u001b[49m\u001b[43m \u001b[49m\u001b[43margs\u001b[49m\u001b[43m,\u001b[49m\u001b[43m \u001b[49m\u001b[43mkwargs\u001b[49m\u001b[43m)\u001b[49m\n",
      "File \u001b[0;32m/output/jax/lib/python3.10/site-packages/equinox/jit.py:59\u001b[0m, in \u001b[0;36m_JitWrapper._fun_wrapper\u001b[0;34m(self, is_lower, args, kwargs)\u001b[0m\n\u001b[1;32m     57\u001b[0m     \u001b[38;5;28;01mreturn\u001b[39;00m \u001b[38;5;28mself\u001b[39m\u001b[38;5;241m.\u001b[39m_cached\u001b[38;5;241m.\u001b[39mlower(dynamic, static)\n\u001b[1;32m     58\u001b[0m \u001b[38;5;28;01melse\u001b[39;00m:\n\u001b[0;32m---> 59\u001b[0m     dynamic_out, static_out \u001b[38;5;241m=\u001b[39m \u001b[38;5;28;43mself\u001b[39;49m\u001b[38;5;241;43m.\u001b[39;49m\u001b[43m_cached\u001b[49m\u001b[43m(\u001b[49m\u001b[43mdynamic\u001b[49m\u001b[43m,\u001b[49m\u001b[43m \u001b[49m\u001b[43mstatic\u001b[49m\u001b[43m)\u001b[49m\n\u001b[1;32m     60\u001b[0m     \u001b[38;5;28;01mreturn\u001b[39;00m combine(dynamic_out, static_out\u001b[38;5;241m.\u001b[39mvalue)\n",
      "    \u001b[0;31m[... skipping hidden 12 frame]\u001b[0m\n",
      "File \u001b[0;32m/output/jax/lib/python3.10/site-packages/equinox/jit.py:30\u001b[0m, in \u001b[0;36m_filter_jit_cache.<locals>.fun_wrapped\u001b[0;34m(dynamic, static)\u001b[0m\n\u001b[1;32m     28\u001b[0m fun \u001b[38;5;241m=\u001b[39m hashable_combine(dynamic_fun, static_fun)\n\u001b[1;32m     29\u001b[0m args, kwargs \u001b[38;5;241m=\u001b[39m hashable_combine(dynamic_spec, static_spec)\n\u001b[0;32m---> 30\u001b[0m out \u001b[38;5;241m=\u001b[39m \u001b[43mfun\u001b[49m\u001b[43m(\u001b[49m\u001b[38;5;241;43m*\u001b[39;49m\u001b[43margs\u001b[49m\u001b[43m,\u001b[49m\u001b[43m \u001b[49m\u001b[38;5;241;43m*\u001b[39;49m\u001b[38;5;241;43m*\u001b[39;49m\u001b[43mkwargs\u001b[49m\u001b[43m)\u001b[49m\n\u001b[1;32m     31\u001b[0m dynamic_out, static_out \u001b[38;5;241m=\u001b[39m partition(out, is_array)\n\u001b[1;32m     32\u001b[0m \u001b[38;5;28;01mreturn\u001b[39;00m dynamic_out, Static(static_out)\n",
      "File \u001b[0;32m/output/jax/lib/python3.10/site-packages/diffrax/integrate.py:676\u001b[0m, in \u001b[0;36mdiffeqsolve\u001b[0;34m(terms, solver, t0, t1, dt0, y0, args, saveat, stepsize_controller, adjoint, discrete_terminating_event, max_steps, throw, solver_state, controller_state, made_jump)\u001b[0m\n\u001b[1;32m    674\u001b[0m \u001b[38;5;28;01mif\u001b[39;00m solver_state \u001b[38;5;129;01mis\u001b[39;00m \u001b[38;5;28;01mNone\u001b[39;00m:\n\u001b[1;32m    675\u001b[0m     passed_solver_state \u001b[38;5;241m=\u001b[39m \u001b[38;5;28;01mFalse\u001b[39;00m\n\u001b[0;32m--> 676\u001b[0m     solver_state \u001b[38;5;241m=\u001b[39m \u001b[43msolver\u001b[49m\u001b[38;5;241;43m.\u001b[39;49m\u001b[43minit\u001b[49m\u001b[43m(\u001b[49m\u001b[43mterms\u001b[49m\u001b[43m,\u001b[49m\u001b[43m \u001b[49m\u001b[43mt0\u001b[49m\u001b[43m,\u001b[49m\u001b[43m \u001b[49m\u001b[43mtnext\u001b[49m\u001b[43m,\u001b[49m\u001b[43m \u001b[49m\u001b[43my0\u001b[49m\u001b[43m,\u001b[49m\u001b[43m \u001b[49m\u001b[43margs\u001b[49m\u001b[43m)\u001b[49m\n\u001b[1;32m    677\u001b[0m \u001b[38;5;28;01melse\u001b[39;00m:\n\u001b[1;32m    678\u001b[0m     passed_solver_state \u001b[38;5;241m=\u001b[39m \u001b[38;5;28;01mTrue\u001b[39;00m\n",
      "File \u001b[0;32m/output/jax/lib/python3.10/site-packages/diffrax/solver/runge_kutta.py:269\u001b[0m, in \u001b[0;36mAbstractRungeKutta.init\u001b[0;34m(self, terms, t0, t1, y0, args)\u001b[0m\n\u001b[1;32m    267\u001b[0m _, _, _, fsal \u001b[38;5;241m=\u001b[39m \u001b[38;5;28mself\u001b[39m\u001b[38;5;241m.\u001b[39m_first(terms, t0, t1, y0, args)\n\u001b[1;32m    268\u001b[0m \u001b[38;5;28;01mif\u001b[39;00m fsal:\n\u001b[0;32m--> 269\u001b[0m     \u001b[38;5;28;01mreturn\u001b[39;00m \u001b[43mterms\u001b[49m\u001b[38;5;241;43m.\u001b[39;49m\u001b[43mvf\u001b[49m\u001b[43m(\u001b[49m\u001b[43mt0\u001b[49m\u001b[43m,\u001b[49m\u001b[43m \u001b[49m\u001b[43my0\u001b[49m\u001b[43m,\u001b[49m\u001b[43m \u001b[49m\u001b[43margs\u001b[49m\u001b[43m)\u001b[49m\n\u001b[1;32m    270\u001b[0m \u001b[38;5;28;01melse\u001b[39;00m:\n\u001b[1;32m    271\u001b[0m     \u001b[38;5;28;01mreturn\u001b[39;00m \u001b[38;5;28;01mNone\u001b[39;00m\n",
      "File \u001b[0;32m/output/jax/lib/python3.10/site-packages/diffrax/term.py:364\u001b[0m, in \u001b[0;36mWrapTerm.vf\u001b[0;34m(self, t, y, args)\u001b[0m\n\u001b[1;32m    362\u001b[0m \u001b[38;5;28;01mdef\u001b[39;00m \u001b[38;5;21mvf\u001b[39m(\u001b[38;5;28mself\u001b[39m, t: Scalar, y: PyTree, args: PyTree) \u001b[38;5;241m-\u001b[39m\u001b[38;5;241m>\u001b[39m PyTree:\n\u001b[1;32m    363\u001b[0m     t \u001b[38;5;241m=\u001b[39m t \u001b[38;5;241m*\u001b[39m \u001b[38;5;28mself\u001b[39m\u001b[38;5;241m.\u001b[39mdirection\n\u001b[0;32m--> 364\u001b[0m     \u001b[38;5;28;01mreturn\u001b[39;00m \u001b[38;5;28;43mself\u001b[39;49m\u001b[38;5;241;43m.\u001b[39;49m\u001b[43mterm\u001b[49m\u001b[38;5;241;43m.\u001b[39;49m\u001b[43mvf\u001b[49m\u001b[43m(\u001b[49m\u001b[43mt\u001b[49m\u001b[43m,\u001b[49m\u001b[43m \u001b[49m\u001b[43my\u001b[49m\u001b[43m,\u001b[49m\u001b[43m \u001b[49m\u001b[43margs\u001b[49m\u001b[43m)\u001b[49m\n",
      "File \u001b[0;32m/output/jax/lib/python3.10/site-packages/diffrax/term.py:173\u001b[0m, in \u001b[0;36mODETerm.vf\u001b[0;34m(self, t, y, args)\u001b[0m\n\u001b[1;32m    172\u001b[0m \u001b[38;5;28;01mdef\u001b[39;00m \u001b[38;5;21mvf\u001b[39m(\u001b[38;5;28mself\u001b[39m, t: Scalar, y: PyTree, args: PyTree) \u001b[38;5;241m-\u001b[39m\u001b[38;5;241m>\u001b[39m PyTree:\n\u001b[0;32m--> 173\u001b[0m     \u001b[38;5;28;01mreturn\u001b[39;00m \u001b[38;5;28;43mself\u001b[39;49m\u001b[38;5;241;43m.\u001b[39;49m\u001b[43mvector_field\u001b[49m\u001b[43m(\u001b[49m\u001b[43mt\u001b[49m\u001b[43m,\u001b[49m\u001b[43m \u001b[49m\u001b[43my\u001b[49m\u001b[43m,\u001b[49m\u001b[43m \u001b[49m\u001b[43margs\u001b[49m\u001b[43m)\u001b[49m\n",
      "Cell \u001b[0;32mIn[30], line 48\u001b[0m, in \u001b[0;36mupdate.__call__\u001b[0;34m(self, t, y, args)\u001b[0m\n\u001b[1;32m     46\u001b[0m perceive \u001b[38;5;241m=\u001b[39m jnp\u001b[38;5;241m.\u001b[39mreshape(perceive, (\u001b[38;5;241m-\u001b[39m\u001b[38;5;241m1\u001b[39m, \u001b[38;5;241m3\u001b[39m \u001b[38;5;241m*\u001b[39m num_channels))\n\u001b[1;32m     47\u001b[0m \u001b[38;5;28;01mfor\u001b[39;00m layer \u001b[38;5;129;01min\u001b[39;00m \u001b[38;5;28mself\u001b[39m\u001b[38;5;241m.\u001b[39mmlp:\n\u001b[0;32m---> 48\u001b[0m     x \u001b[38;5;241m=\u001b[39m \u001b[43mvmap\u001b[49m\u001b[43m(\u001b[49m\u001b[43mlayer\u001b[49m\u001b[43m)\u001b[49m\u001b[43m(\u001b[49m\u001b[43mperceive\u001b[49m\u001b[43m)\u001b[49m\n\u001b[1;32m     49\u001b[0m \u001b[38;5;28;01mfor\u001b[39;00m layer \u001b[38;5;129;01min\u001b[39;00m \u001b[38;5;28mself\u001b[39m\u001b[38;5;241m.\u001b[39mgate:\n\u001b[1;32m     50\u001b[0m     gate \u001b[38;5;241m=\u001b[39m vmap(layer)(perceive)\n",
      "    \u001b[0;31m[... skipping hidden 3 frame]\u001b[0m\n",
      "File \u001b[0;32m/output/jax/lib/python3.10/site-packages/equinox/nn/linear.py:76\u001b[0m, in \u001b[0;36mLinear.__call__\u001b[0;34m(self, x, key)\u001b[0m\n\u001b[1;32m     51\u001b[0m \u001b[38;5;28;01mdef\u001b[39;00m \u001b[38;5;21m__call__\u001b[39m(\n\u001b[1;32m     52\u001b[0m     \u001b[38;5;28mself\u001b[39m, x: Array, \u001b[38;5;241m*\u001b[39m, key: Optional[\u001b[38;5;124m\"\u001b[39m\u001b[38;5;124mjax.random.PRNGKey\u001b[39m\u001b[38;5;124m\"\u001b[39m] \u001b[38;5;241m=\u001b[39m \u001b[38;5;28;01mNone\u001b[39;00m\n\u001b[1;32m     53\u001b[0m ) \u001b[38;5;241m-\u001b[39m\u001b[38;5;241m>\u001b[39m Array:\n\u001b[1;32m     54\u001b[0m \u001b[38;5;250m    \u001b[39m\u001b[38;5;124;03m\"\"\"**Arguments:**\u001b[39;00m\n\u001b[1;32m     55\u001b[0m \n\u001b[1;32m     56\u001b[0m \u001b[38;5;124;03m    - `x`: The input. Should be a JAX array of shape `(in_features,)`.\u001b[39;00m\n\u001b[0;32m   (...)\u001b[0m\n\u001b[1;32m     73\u001b[0m \u001b[38;5;124;03m    A JAX array of shape `(out_features,)`\u001b[39;00m\n\u001b[1;32m     74\u001b[0m \u001b[38;5;124;03m    \"\"\"\u001b[39;00m\n\u001b[0;32m---> 76\u001b[0m     x \u001b[38;5;241m=\u001b[39m \u001b[38;5;28;43mself\u001b[39;49m\u001b[38;5;241;43m.\u001b[39;49m\u001b[43mweight\u001b[49m\u001b[43m \u001b[49m\u001b[38;5;241;43m@\u001b[39;49m\u001b[43m \u001b[49m\u001b[43mx\u001b[49m\n\u001b[1;32m     77\u001b[0m     \u001b[38;5;28;01mif\u001b[39;00m \u001b[38;5;28mself\u001b[39m\u001b[38;5;241m.\u001b[39mbias \u001b[38;5;129;01mis\u001b[39;00m \u001b[38;5;129;01mnot\u001b[39;00m \u001b[38;5;28;01mNone\u001b[39;00m:\n\u001b[1;32m     78\u001b[0m         x \u001b[38;5;241m=\u001b[39m x \u001b[38;5;241m+\u001b[39m \u001b[38;5;28mself\u001b[39m\u001b[38;5;241m.\u001b[39mbias\n",
      "    \u001b[0;31m[... skipping hidden 1 frame]\u001b[0m\n",
      "File \u001b[0;32m/output/jax/lib/python3.10/site-packages/jax/_src/numpy/lax_numpy.py:5112\u001b[0m, in \u001b[0;36m_defer_to_unrecognized_arg.<locals>.deferring_binary_op\u001b[0;34m(self, other)\u001b[0m\n\u001b[1;32m   5110\u001b[0m args \u001b[38;5;241m=\u001b[39m (other, \u001b[38;5;28mself\u001b[39m) \u001b[38;5;28;01mif\u001b[39;00m swap \u001b[38;5;28;01melse\u001b[39;00m (\u001b[38;5;28mself\u001b[39m, other)\n\u001b[1;32m   5111\u001b[0m \u001b[38;5;28;01mif\u001b[39;00m \u001b[38;5;28misinstance\u001b[39m(other, _accepted_binop_types):\n\u001b[0;32m-> 5112\u001b[0m   \u001b[38;5;28;01mreturn\u001b[39;00m \u001b[43mbinary_op\u001b[49m\u001b[43m(\u001b[49m\u001b[38;5;241;43m*\u001b[39;49m\u001b[43margs\u001b[49m\u001b[43m)\u001b[49m\n\u001b[1;32m   5113\u001b[0m \u001b[38;5;28;01mif\u001b[39;00m \u001b[38;5;28misinstance\u001b[39m(other, _rejected_binop_types):\n\u001b[1;32m   5114\u001b[0m   \u001b[38;5;28;01mraise\u001b[39;00m \u001b[38;5;167;01mTypeError\u001b[39;00m(\u001b[38;5;124mf\u001b[39m\u001b[38;5;124m\"\u001b[39m\u001b[38;5;124munsupported operand type(s) for \u001b[39m\u001b[38;5;132;01m{\u001b[39;00mopchar\u001b[38;5;132;01m}\u001b[39;00m\u001b[38;5;124m: \u001b[39m\u001b[38;5;124m\"\u001b[39m\n\u001b[1;32m   5115\u001b[0m                   \u001b[38;5;124mf\u001b[39m\u001b[38;5;124m\"\u001b[39m\u001b[38;5;132;01m{\u001b[39;00m\u001b[38;5;28mtype\u001b[39m(args[\u001b[38;5;241m0\u001b[39m])\u001b[38;5;241m.\u001b[39m\u001b[38;5;18m__name__\u001b[39m\u001b[38;5;132;01m!r}\u001b[39;00m\u001b[38;5;124m and \u001b[39m\u001b[38;5;132;01m{\u001b[39;00m\u001b[38;5;28mtype\u001b[39m(args[\u001b[38;5;241m1\u001b[39m])\u001b[38;5;241m.\u001b[39m\u001b[38;5;18m__name__\u001b[39m\u001b[38;5;132;01m!r}\u001b[39;00m\u001b[38;5;124m\"\u001b[39m)\n",
      "    \u001b[0;31m[... skipping hidden 12 frame]\u001b[0m\n",
      "File \u001b[0;32m/output/jax/lib/python3.10/site-packages/jax/_src/numpy/lax_numpy.py:3048\u001b[0m, in \u001b[0;36mmatmul\u001b[0;34m(a, b, precision)\u001b[0m\n\u001b[1;32m   3046\u001b[0m a \u001b[38;5;241m=\u001b[39m lax\u001b[38;5;241m.\u001b[39msqueeze(a, \u001b[38;5;28mtuple\u001b[39m(a_squeeze))\n\u001b[1;32m   3047\u001b[0m b \u001b[38;5;241m=\u001b[39m lax\u001b[38;5;241m.\u001b[39msqueeze(b, \u001b[38;5;28mtuple\u001b[39m(b_squeeze))\n\u001b[0;32m-> 3048\u001b[0m out \u001b[38;5;241m=\u001b[39m \u001b[43mlax\u001b[49m\u001b[38;5;241;43m.\u001b[39;49m\u001b[43mdot_general\u001b[49m\u001b[43m(\u001b[49m\n\u001b[1;32m   3049\u001b[0m \u001b[43m  \u001b[49m\u001b[43ma\u001b[49m\u001b[43m,\u001b[49m\u001b[43m \u001b[49m\u001b[43mb\u001b[49m\u001b[43m,\u001b[49m\u001b[43m \u001b[49m\u001b[43m(\u001b[49m\u001b[43m(\u001b[49m\u001b[43m(\u001b[49m\u001b[43mndim\u001b[49m\u001b[43m(\u001b[49m\u001b[43ma\u001b[49m\u001b[43m)\u001b[49m\u001b[43m \u001b[49m\u001b[38;5;241;43m-\u001b[39;49m\u001b[43m \u001b[49m\u001b[38;5;241;43m1\u001b[39;49m\u001b[43m,\u001b[49m\u001b[43m)\u001b[49m\u001b[43m,\u001b[49m\u001b[43m \u001b[49m\u001b[43m(\u001b[49m\u001b[43mndim\u001b[49m\u001b[43m(\u001b[49m\u001b[43mb\u001b[49m\u001b[43m)\u001b[49m\u001b[43m \u001b[49m\u001b[38;5;241;43m-\u001b[39;49m\u001b[43m \u001b[49m\u001b[38;5;241;43m1\u001b[39;49m\u001b[43m \u001b[49m\u001b[38;5;241;43m-\u001b[39;49m\u001b[43m \u001b[49m\u001b[43mb_is_mat\u001b[49m\u001b[43m,\u001b[49m\u001b[43m)\u001b[49m\u001b[43m)\u001b[49m\u001b[43m,\u001b[49m\u001b[43m \u001b[49m\u001b[43m(\u001b[49m\u001b[43ma_batch\u001b[49m\u001b[43m,\u001b[49m\u001b[43m \u001b[49m\u001b[43mb_batch\u001b[49m\u001b[43m)\u001b[49m\u001b[43m)\u001b[49m\u001b[43m,\u001b[49m\n\u001b[1;32m   3050\u001b[0m \u001b[43m  \u001b[49m\u001b[43mprecision\u001b[49m\u001b[38;5;241;43m=\u001b[39;49m\u001b[43mprecision\u001b[49m\u001b[43m)\u001b[49m\n\u001b[1;32m   3051\u001b[0m \u001b[38;5;28;01mreturn\u001b[39;00m lax\u001b[38;5;241m.\u001b[39mtranspose(out, perm)\n",
      "    \u001b[0;31m[... skipping hidden 7 frame]\u001b[0m\n",
      "File \u001b[0;32m/output/jax/lib/python3.10/site-packages/jax/_src/lax/lax.py:2577\u001b[0m, in \u001b[0;36m_dot_general_shape_rule\u001b[0;34m(lhs, rhs, dimension_numbers, precision, preferred_element_type)\u001b[0m\n\u001b[1;32m   2574\u001b[0m \u001b[38;5;28;01mif\u001b[39;00m \u001b[38;5;129;01mnot\u001b[39;00m core\u001b[38;5;241m.\u001b[39msymbolic_equal_shape(lhs_contracting_shape, rhs_contracting_shape):\n\u001b[1;32m   2575\u001b[0m   msg \u001b[38;5;241m=\u001b[39m (\u001b[38;5;124m\"\u001b[39m\u001b[38;5;124mdot_general requires contracting dimensions to have the same \u001b[39m\u001b[38;5;124m\"\u001b[39m\n\u001b[1;32m   2576\u001b[0m          \u001b[38;5;124m\"\u001b[39m\u001b[38;5;124mshape, got \u001b[39m\u001b[38;5;132;01m{}\u001b[39;00m\u001b[38;5;124m and \u001b[39m\u001b[38;5;132;01m{}\u001b[39;00m\u001b[38;5;124m.\u001b[39m\u001b[38;5;124m\"\u001b[39m)\n\u001b[0;32m-> 2577\u001b[0m   \u001b[38;5;28;01mraise\u001b[39;00m \u001b[38;5;167;01mTypeError\u001b[39;00m(msg\u001b[38;5;241m.\u001b[39mformat(lhs_contracting_shape, rhs_contracting_shape))\n\u001b[1;32m   2579\u001b[0m \u001b[38;5;28;01mreturn\u001b[39;00m _dot_general_shape_computation(lhs\u001b[38;5;241m.\u001b[39mshape, rhs\u001b[38;5;241m.\u001b[39mshape, dimension_numbers)\n",
      "\u001b[0;31mTypeError\u001b[0m: dot_general requires contracting dimensions to have the same shape, got (64,) and (48,)."
     ]
    }
   ],
   "source": [
    "\n",
    "minv = 4\n",
    "maxv = 32\n",
    "glide = 32\n",
    "steps = 300\n",
    "\n",
    "model1 = CoTiNCA(key=model_key)\n",
    "\n",
    "schedule = optax.exponential_decay(0.001, steps, 0.25, transition_begin=0, staircase=False, end_value=None)\n",
    "optim = optax.adabelief(schedule)\n",
    "opt_state = optim.init(eqx.filter(model1, eqx.is_inexact_array))\n",
    "\n",
    "#ts = minv+jnp.arange(24)/(maxv+minv)\n",
    "for i in range(steps):\n",
    "    #n_key, x_key = random.split(x_key, 2)\n",
    "    ts = jnp.sort(jrand.uniform(x_key, shape=(36,),minval=minv,maxval=maxv))\n",
    "    loss_v, model1, opt_state = make_step(ts, seed2, seed, model1, opt_state)\n",
    "    if i%10 == 1: \n",
    "        print(i, loss_v)"
   ]
  },
  {
   "cell_type": "code",
   "execution_count": null,
   "id": "d124c0fd-c838-4771-95f3-4386e4d6d302",
   "metadata": {},
   "outputs": [],
   "source": [
    "for i in range(pers_steps):\n",
    "    "
   ]
  },
  {
   "cell_type": "code",
   "execution_count": null,
   "id": "1b007701-8a93-4bc8-a36f-a6c444a9b8ed",
   "metadata": {
    "tags": []
   },
   "outputs": [],
   "source": [
    "make_step(jnp.array([0,10,20,30,40,50,60,70,80,90,100]), seed2, seed, model1, opt_state)"
   ]
  },
  {
   "cell_type": "code",
   "execution_count": 106,
   "id": "56ff8924-c35b-45ad-b96f-428ba39acaf0",
   "metadata": {
    "execution": {
     "iopub.execute_input": "2023-04-06T12:42:08.601440Z",
     "iopub.status.busy": "2023-04-06T12:42:08.601206Z",
     "iopub.status.idle": "2023-04-06T12:42:08.657655Z",
     "shell.execute_reply": "2023-04-06T12:42:08.656845Z",
     "shell.execute_reply.started": "2023-04-06T12:42:08.601423Z"
    },
    "tags": []
   },
   "outputs": [],
   "source": [
    "#cells = model1(jnp.array([0,10,20,30,40,50,60,70,80,90,100,110,120,130]),seed2)\n"
   ]
  },
  {
   "cell_type": "code",
   "execution_count": 97,
   "id": "de2f301d-0608-47a6-8d93-95aa3caad3f7",
   "metadata": {
    "execution": {
     "iopub.execute_input": "2023-04-05T03:25:52.512430Z",
     "iopub.status.busy": "2023-04-05T03:25:52.512209Z",
     "iopub.status.idle": "2023-04-05T03:25:52.517302Z",
     "shell.execute_reply": "2023-04-05T03:25:52.516650Z",
     "shell.execute_reply.started": "2023-04-05T03:25:52.512415Z"
    },
    "tags": []
   },
   "outputs": [
    {
     "data": {
      "text/plain": [
       "(72, 72, 4)"
      ]
     },
     "execution_count": 97,
     "metadata": {},
     "output_type": "execute_result"
    }
   ],
   "source": [
    "target_img.shape"
   ]
  },
  {
   "cell_type": "code",
   "execution_count": 77,
   "id": "8828e702-8698-456e-9a9e-cfc034e66900",
   "metadata": {
    "execution": {
     "iopub.execute_input": "2023-03-30T11:53:10.613542Z",
     "iopub.status.busy": "2023-03-30T11:53:10.613301Z",
     "iopub.status.idle": "2023-03-30T11:53:10.626491Z",
     "shell.execute_reply": "2023-03-30T11:53:10.625693Z",
     "shell.execute_reply.started": "2023-03-30T11:53:10.613522Z"
    },
    "tags": []
   },
   "outputs": [
    {
     "data": {
      "text/plain": [
       "(1, 32, 72, 72, 4)"
      ]
     },
     "execution_count": 100,
     "metadata": {},
     "output_type": "execute_result"
    }
   ],
   "source": [
    "ys = jnp.tile(target_img, reps=(32,1,1,1))[None,...]\n",
    "ts = jnp.sort(jrand.uniform(x_key, shape=(32,),minval=2,maxval=6))[None,...]\n",
    "ys.shape"
   ]
  },
  {
   "cell_type": "code",
   "execution_count": null,
   "id": "02ed123c-23cc-4f26-a692-7d20e8cc5118",
   "metadata": {
    "tags": []
   },
   "outputs": [],
   "source": [
    "import optax, time\n",
    "\n",
    "def main():\n",
    "    \n",
    "    x_key, y_key, model_key, loader_key = jrand.split(jrand.PRNGKey(0), 4)\n",
    "\n",
    "    model = CoTiNCA(key=model_key)\n",
    "\n",
    "\n",
    "\n"
   ]
  },
  {
   "cell_type": "code",
   "execution_count": 4,
   "id": "25ef0d72-ec50-4797-9955-04b1b6b59883",
   "metadata": {
    "execution": {
     "iopub.execute_input": "2023-04-07T14:44:55.642096Z",
     "iopub.status.busy": "2023-04-07T14:44:55.641726Z",
     "iopub.status.idle": "2023-04-07T14:44:56.610034Z",
     "shell.execute_reply": "2023-04-07T14:44:56.609514Z",
     "shell.execute_reply.started": "2023-04-07T14:44:55.642064Z"
    },
    "tags": []
   },
   "outputs": [],
   "source": [
    "x_key, y_key, model_key, loader_key = jrand.split(jrand.PRNGKey(0), 4)"
   ]
  },
  {
   "cell_type": "code",
   "execution_count": 142,
   "id": "5d9fa5e5-2a2a-4167-902c-54fb092856da",
   "metadata": {
    "execution": {
     "iopub.execute_input": "2023-04-06T12:48:25.613701Z",
     "iopub.status.busy": "2023-04-06T12:48:25.613512Z",
     "iopub.status.idle": "2023-04-06T12:48:25.741107Z",
     "shell.execute_reply": "2023-04-06T12:48:25.740465Z",
     "shell.execute_reply.started": "2023-04-06T12:48:25.613684Z"
    },
    "tags": []
   },
   "outputs": [
    {
     "name": "stderr",
     "output_type": "stream",
     "text": [
      "Clipping input data to the valid range for imshow with RGB data ([0..1] for floats or [0..255] for integers).\n"
     ]
    },
    {
     "data": {
      "text/plain": [
       "<matplotlib.image.AxesImage at 0x7fab205bc550>"
      ]
     },
     "execution_count": 142,
     "metadata": {},
     "output_type": "execute_result"
    },
    {
     "data": {
      "image/png": "[encoded data removed]",
      "text/plain": [
       "<Figure size 640x480 with 1 Axes>"
      ]
     },
     "metadata": {},
     "output_type": "display_data"
    }
   ],
   "source": [
    "cells = model1(jnp.arange(33)*4,seed2)\n",
    "plt.imshow(cells[30][:,:,0:4])\n",
    "#cells[4][:,:,:4]"
   ]
  },
  {
   "cell_type": "code",
   "execution_count": 22,
   "id": "902ce737-fc65-429e-b61b-104c4a2fdc2c",
   "metadata": {
    "execution": {
     "iopub.execute_input": "2023-04-05T02:50:14.649011Z",
     "iopub.status.busy": "2023-04-05T02:50:14.648795Z",
     "iopub.status.idle": "2023-04-05T02:50:14.654051Z",
     "shell.execute_reply": "2023-04-05T02:50:14.653083Z",
     "shell.execute_reply.started": "2023-04-05T02:50:14.648994Z"
    },
    "tags": []
   },
   "outputs": [
    {
     "data": {
      "text/plain": [
       "(14, 72, 72, 16)"
      ]
     },
     "execution_count": 22,
     "metadata": {},
     "output_type": "execute_result"
    }
   ],
   "source": [
    "cells.shape"
   ]
  },
  {
   "cell_type": "code",
   "execution_count": 85,
   "id": "92acb351-5372-4410-93d4-66480def7f0a",
   "metadata": {
    "execution": {
     "iopub.execute_input": "2023-04-04T15:19:41.793647Z",
     "iopub.status.busy": "2023-04-04T15:19:41.793263Z",
     "iopub.status.idle": "2023-04-04T15:19:41.808133Z",
     "shell.execute_reply": "2023-04-04T15:19:41.807250Z",
     "shell.execute_reply.started": "2023-04-04T15:19:41.793614Z"
    },
    "tags": []
   },
   "outputs": [
    {
     "data": {
      "text/plain": [
       "Array(0.08533505, dtype=float32)"
      ]
     },
     "execution_count": 85,
     "metadata": {},
     "output_type": "execute_result"
    }
   ],
   "source": [
    "jnp.mean((cells[4][...,:4]-seed[...,:4])**2)"
   ]
  },
  {
   "cell_type": "code",
   "execution_count": null,
   "id": "ec829554-e49e-4936-bf9c-0c1386f32861",
   "metadata": {
    "execution": {
     "iopub.execute_input": "2023-04-04T15:30:34.398559Z",
     "iopub.status.busy": "2023-04-04T15:30:34.398312Z"
    },
    "tags": []
   },
   "outputs": [],
   "source": [
    "grad_loss(model, jnp.array([10,20,30]), seed2, target_img)"
   ]
  },
  {
   "cell_type": "code",
   "execution_count": 95,
   "id": "4768f4fb-92e6-485e-80e7-b2534adea6ba",
   "metadata": {
    "execution": {
     "iopub.execute_input": "2023-04-04T15:25:22.593588Z",
     "iopub.status.busy": "2023-04-04T15:25:22.593257Z",
     "iopub.status.idle": "2023-04-04T15:25:22.682187Z",
     "shell.execute_reply": "2023-04-04T15:25:22.681117Z",
     "shell.execute_reply.started": "2023-04-04T15:25:22.593561Z"
    },
    "tags": []
   },
   "outputs": [
    {
     "data": {
      "text/plain": [
       "Array(0.7679476, dtype=float32)"
      ]
     },
     "execution_count": 95,
     "metadata": {},
     "output_type": "execute_result"
    }
   ],
   "source": [
    "jnp.sum(vmap(loss, in_axes=(0,None))(cells,target_img))"
   ]
  },
  {
   "cell_type": "code",
   "execution_count": 93,
   "id": "5ba2efc4-c726-4c69-9373-753c1be0f73e",
   "metadata": {
    "execution": {
     "iopub.execute_input": "2023-04-04T15:24:57.639578Z",
     "iopub.status.busy": "2023-04-04T15:24:57.639069Z",
     "iopub.status.idle": "2023-04-04T15:24:57.649665Z",
     "shell.execute_reply": "2023-04-04T15:24:57.649181Z",
     "shell.execute_reply.started": "2023-04-04T15:24:57.639543Z"
    }
   },
   "outputs": [
    {
     "data": {
      "text/plain": [
       "(72, 72, 16)"
      ]
     },
     "execution_count": 93,
     "metadata": {},
     "output_type": "execute_result"
    }
   ],
   "source": [
    "cells[0].shape"
   ]
  },
  {
   "cell_type": "code",
   "execution_count": 143,
   "id": "bcdd0f53-e0d4-4a0f-9574-99161bf9e069",
   "metadata": {
    "execution": {
     "iopub.execute_input": "2023-04-06T12:49:11.958435Z",
     "iopub.status.busy": "2023-04-06T12:49:11.958181Z",
     "iopub.status.idle": "2023-04-06T12:49:11.978376Z",
     "shell.execute_reply": "2023-04-06T12:49:11.977687Z",
     "shell.execute_reply.started": "2023-04-06T12:49:11.958418Z"
    },
    "tags": []
   },
   "outputs": [],
   "source": [
    "eqx.tree_serialise_leaves(\"stbr_growing.eqx\", model1)"
   ]
  },
  {
   "cell_type": "code",
   "execution_count": 147,
   "id": "7fc9ef6d-e9c8-4a45-ac32-2561d13ab62b",
   "metadata": {
    "execution": {
     "iopub.execute_input": "2023-04-06T12:51:53.070236Z",
     "iopub.status.busy": "2023-04-06T12:51:53.069923Z",
     "iopub.status.idle": "2023-04-06T12:51:53.075481Z",
     "shell.execute_reply": "2023-04-06T12:51:53.074805Z",
     "shell.execute_reply.started": "2023-04-06T12:51:53.070219Z"
    },
    "tags": []
   },
   "outputs": [],
   "source": [
    "model1 = eqx.tree_deserialise_leaves(\"stbr_growing.eqx\", model1)"
   ]
  },
  {
   "cell_type": "code",
   "execution_count": 327,
   "id": "cf4cce4e-9ab2-4fb7-bc2a-381ea96b47de",
   "metadata": {
    "execution": {
     "iopub.execute_input": "2023-04-05T05:11:56.038654Z",
     "iopub.status.busy": "2023-04-05T05:11:56.038398Z",
     "iopub.status.idle": "2023-04-05T05:11:56.051963Z",
     "shell.execute_reply": "2023-04-05T05:11:56.051244Z",
     "shell.execute_reply.started": "2023-04-05T05:11:56.038637Z"
    }
   },
   "outputs": [
    {
     "ename": "ModuleNotFoundError",
     "evalue": "No module named 'cv2'",
     "output_type": "error",
     "traceback": [
      "\u001b[0;31m---------------------------------------------------------------------------\u001b[0m",
      "\u001b[0;31mModuleNotFoundError\u001b[0m                       Traceback (most recent call last)",
      "Cell \u001b[0;32mIn[327], line 1\u001b[0m\n\u001b[0;32m----> 1\u001b[0m \u001b[38;5;28;01mimport\u001b[39;00m \u001b[38;5;21;01mcv2\u001b[39;00m\n",
      "\u001b[0;31mModuleNotFoundError\u001b[0m: No module named 'cv2'"
     ]
    }
   ],
   "source": [
    "import cv2"
   ]
  },
  {
   "cell_type": "code",
   "execution_count": 33,
   "id": "52f93633-8894-43ed-9e07-2e455d241998",
   "metadata": {
    "execution": {
     "iopub.execute_input": "2023-04-06T12:02:44.032040Z",
     "iopub.status.busy": "2023-04-06T12:02:44.031812Z",
     "iopub.status.idle": "2023-04-06T12:02:46.140912Z",
     "shell.execute_reply": "2023-04-06T12:02:46.140263Z",
     "shell.execute_reply.started": "2023-04-06T12:02:44.032023Z"
    },
    "tags": []
   },
   "outputs": [],
   "source": [
    "import numpy as np\n",
    "cell2 = model1(jnp.arange(256)/8,seed2)\n",
    "np.save('anchors',np.array(cell2)[...,:4])"
   ]
  },
  {
   "cell_type": "code",
   "execution_count": 4,
   "id": "02f34139-afc3-469f-8817-ac5d49f9896f",
   "metadata": {
    "execution": {
     "iopub.execute_input": "2023-04-06T07:48:35.475948Z",
     "iopub.status.busy": "2023-04-06T07:48:35.475166Z",
     "iopub.status.idle": "2023-04-06T07:48:35.483236Z",
     "shell.execute_reply": "2023-04-06T07:48:35.482017Z",
     "shell.execute_reply.started": "2023-04-06T07:48:35.475898Z"
    },
    "tags": []
   },
   "outputs": [],
   "source": [
    "from SSIM import ms_ssim"
   ]
  },
  {
   "cell_type": "code",
   "execution_count": 5,
   "id": "420ca66d-e716-4cf1-860f-425aecfc469d",
   "metadata": {
    "execution": {
     "iopub.execute_input": "2023-04-06T07:48:38.908913Z",
     "iopub.status.busy": "2023-04-06T07:48:38.908569Z",
     "iopub.status.idle": "2023-04-06T07:48:39.891563Z",
     "shell.execute_reply": "2023-04-06T07:48:39.890849Z",
     "shell.execute_reply.started": "2023-04-06T07:48:38.908886Z"
    },
    "tags": []
   },
   "outputs": [
    {
     "ename": "ValueError",
     "evalue": "in1 and in2 must have the same number of dimensions",
     "output_type": "error",
     "traceback": [
      "\u001b[0;31m---------------------------------------------------------------------------\u001b[0m",
      "\u001b[0;31mValueError\u001b[0m                                Traceback (most recent call last)",
      "Cell \u001b[0;32mIn[5], line 11\u001b[0m\n\u001b[1;32m      8\u001b[0m size \u001b[38;5;241m=\u001b[39m \u001b[38;5;241m11\u001b[39m\n\u001b[1;32m      9\u001b[0m sigma \u001b[38;5;241m=\u001b[39m \u001b[38;5;241m1.5\u001b[39m\n\u001b[0;32m---> 11\u001b[0m loss \u001b[38;5;241m=\u001b[39m \u001b[43mms_ssim\u001b[49m\u001b[43m(\u001b[49m\u001b[43mimg1\u001b[49m\u001b[43m,\u001b[49m\u001b[43m \u001b[49m\u001b[43mimg2\u001b[49m\u001b[43m,\u001b[49m\u001b[43m \u001b[49m\u001b[43mmax_val\u001b[49m\u001b[38;5;241;43m=\u001b[39;49m\u001b[43mmax_val\u001b[49m\u001b[43m,\u001b[49m\u001b[43m \u001b[49m\u001b[43mlevels\u001b[49m\u001b[38;5;241;43m=\u001b[39;49m\u001b[43mlevels\u001b[49m\u001b[43m,\u001b[49m\u001b[43m \u001b[49m\u001b[43msize\u001b[49m\u001b[38;5;241;43m=\u001b[39;49m\u001b[43msize\u001b[49m\u001b[43m,\u001b[49m\u001b[43m \u001b[49m\u001b[43msigma\u001b[49m\u001b[38;5;241;43m=\u001b[39;49m\u001b[43msigma\u001b[49m\u001b[43m)\u001b[49m\n\u001b[1;32m     12\u001b[0m loss\n",
      "File \u001b[0;32m/output/SSIM.py:48\u001b[0m, in \u001b[0;36mms_ssim\u001b[0;34m(img1, img2, max_val, levels, size, sigma)\u001b[0m\n\u001b[1;32m     45\u001b[0m msssim \u001b[38;5;241m=\u001b[39m []\n\u001b[1;32m     47\u001b[0m \u001b[38;5;28;01mfor\u001b[39;00m i \u001b[38;5;129;01min\u001b[39;00m \u001b[38;5;28mrange\u001b[39m(levels):\n\u001b[0;32m---> 48\u001b[0m     ssim_val \u001b[38;5;241m=\u001b[39m \u001b[43mssim\u001b[49m\u001b[43m(\u001b[49m\u001b[43mimg1\u001b[49m\u001b[43m,\u001b[49m\u001b[43m \u001b[49m\u001b[43mimg2\u001b[49m\u001b[43m,\u001b[49m\u001b[43m \u001b[49m\u001b[43mmax_val\u001b[49m\u001b[38;5;241;43m=\u001b[39;49m\u001b[43mmax_val\u001b[49m\u001b[43m,\u001b[49m\u001b[43m \u001b[49m\u001b[43msize\u001b[49m\u001b[38;5;241;43m=\u001b[39;49m\u001b[43msize\u001b[49m\u001b[43m,\u001b[49m\u001b[43m \u001b[49m\u001b[43msigma\u001b[49m\u001b[38;5;241;43m=\u001b[39;49m\u001b[43msigma\u001b[49m\u001b[43m)\u001b[49m\n\u001b[1;32m     49\u001b[0m     msssim\u001b[38;5;241m.\u001b[39mappend(ssim_val)\n\u001b[1;32m     51\u001b[0m     \u001b[38;5;28;01mif\u001b[39;00m i \u001b[38;5;241m<\u001b[39m levels \u001b[38;5;241m-\u001b[39m \u001b[38;5;241m1\u001b[39m:\n",
      "File \u001b[0;32m/output/SSIM.py:28\u001b[0m, in \u001b[0;36mssim\u001b[0;34m(img1, img2, max_val, size, sigma)\u001b[0m\n\u001b[1;32m     24\u001b[0m C2 \u001b[38;5;241m=\u001b[39m (K2 \u001b[38;5;241m*\u001b[39m L)\u001b[38;5;241m*\u001b[39m\u001b[38;5;241m*\u001b[39m\u001b[38;5;241m2\u001b[39m\n\u001b[1;32m     26\u001b[0m kernel \u001b[38;5;241m=\u001b[39m ssim_kernel(size, sigma)\n\u001b[0;32m---> 28\u001b[0m mu1 \u001b[38;5;241m=\u001b[39m jnp\u001b[38;5;241m.\u001b[39msum(\u001b[43mjsp\u001b[49m\u001b[38;5;241;43m.\u001b[39;49m\u001b[43msignal\u001b[49m\u001b[38;5;241;43m.\u001b[39;49m\u001b[43mconvolve\u001b[49m\u001b[43m(\u001b[49m\u001b[43mimg1\u001b[49m\u001b[43m,\u001b[49m\u001b[43m \u001b[49m\u001b[43mkernel\u001b[49m\u001b[43m,\u001b[49m\u001b[43m \u001b[49m\u001b[43mmode\u001b[49m\u001b[38;5;241;43m=\u001b[39;49m\u001b[38;5;124;43m'\u001b[39;49m\u001b[38;5;124;43mvalid\u001b[39;49m\u001b[38;5;124;43m'\u001b[39;49m\u001b[43m)\u001b[49m, axis\u001b[38;5;241m=\u001b[39m(\u001b[38;5;241m2\u001b[39m, \u001b[38;5;241m3\u001b[39m), keepdims\u001b[38;5;241m=\u001b[39m\u001b[38;5;28;01mTrue\u001b[39;00m)\n\u001b[1;32m     29\u001b[0m mu2 \u001b[38;5;241m=\u001b[39m jnp\u001b[38;5;241m.\u001b[39msum(jsp\u001b[38;5;241m.\u001b[39msignal\u001b[38;5;241m.\u001b[39mconvolve(img2, kernel, mode\u001b[38;5;241m=\u001b[39m\u001b[38;5;124m'\u001b[39m\u001b[38;5;124mvalid\u001b[39m\u001b[38;5;124m'\u001b[39m), axis\u001b[38;5;241m=\u001b[39m(\u001b[38;5;241m2\u001b[39m, \u001b[38;5;241m3\u001b[39m), keepdims\u001b[38;5;241m=\u001b[39m\u001b[38;5;28;01mTrue\u001b[39;00m)\n\u001b[1;32m     31\u001b[0m mu1_sq \u001b[38;5;241m=\u001b[39m mu1\u001b[38;5;241m*\u001b[39m\u001b[38;5;241m*\u001b[39m\u001b[38;5;241m2\u001b[39m\n",
      "File \u001b[0;32m/output/jax/lib/python3.10/site-packages/jax/_src/scipy/signal.py:79\u001b[0m, in \u001b[0;36mconvolve\u001b[0;34m(in1, in2, mode, method, precision)\u001b[0m\n\u001b[1;32m     77\u001b[0m \u001b[38;5;28;01mif\u001b[39;00m method \u001b[38;5;241m!=\u001b[39m \u001b[38;5;124m'\u001b[39m\u001b[38;5;124mauto\u001b[39m\u001b[38;5;124m'\u001b[39m:\n\u001b[1;32m     78\u001b[0m   warnings\u001b[38;5;241m.\u001b[39mwarn(\u001b[38;5;124m\"\u001b[39m\u001b[38;5;124mconvolve() ignores method argument\u001b[39m\u001b[38;5;124m\"\u001b[39m)\n\u001b[0;32m---> 79\u001b[0m \u001b[38;5;28;01mreturn\u001b[39;00m \u001b[43m_convolve_nd\u001b[49m\u001b[43m(\u001b[49m\u001b[43min1\u001b[49m\u001b[43m,\u001b[49m\u001b[43m \u001b[49m\u001b[43min2\u001b[49m\u001b[43m,\u001b[49m\u001b[43m \u001b[49m\u001b[43mmode\u001b[49m\u001b[43m,\u001b[49m\u001b[43m \u001b[49m\u001b[43mprecision\u001b[49m\u001b[38;5;241;43m=\u001b[39;49m\u001b[43mprecision\u001b[49m\u001b[43m)\u001b[49m\n",
      "File \u001b[0;32m/output/jax/lib/python3.10/site-packages/jax/_src/scipy/signal.py:44\u001b[0m, in \u001b[0;36m_convolve_nd\u001b[0;34m(in1, in2, mode, precision)\u001b[0m\n\u001b[1;32m     42\u001b[0m   \u001b[38;5;28;01mraise\u001b[39;00m \u001b[38;5;167;01mValueError\u001b[39;00m(\u001b[38;5;124m\"\u001b[39m\u001b[38;5;124mmode must be one of [\u001b[39m\u001b[38;5;124m'\u001b[39m\u001b[38;5;124mfull\u001b[39m\u001b[38;5;124m'\u001b[39m\u001b[38;5;124m, \u001b[39m\u001b[38;5;124m'\u001b[39m\u001b[38;5;124msame\u001b[39m\u001b[38;5;124m'\u001b[39m\u001b[38;5;124m, \u001b[39m\u001b[38;5;124m'\u001b[39m\u001b[38;5;124mvalid\u001b[39m\u001b[38;5;124m'\u001b[39m\u001b[38;5;124m]\u001b[39m\u001b[38;5;124m\"\u001b[39m)\n\u001b[1;32m     43\u001b[0m \u001b[38;5;28;01mif\u001b[39;00m in1\u001b[38;5;241m.\u001b[39mndim \u001b[38;5;241m!=\u001b[39m in2\u001b[38;5;241m.\u001b[39mndim:\n\u001b[0;32m---> 44\u001b[0m   \u001b[38;5;28;01mraise\u001b[39;00m \u001b[38;5;167;01mValueError\u001b[39;00m(\u001b[38;5;124m\"\u001b[39m\u001b[38;5;124min1 and in2 must have the same number of dimensions\u001b[39m\u001b[38;5;124m\"\u001b[39m)\n\u001b[1;32m     45\u001b[0m \u001b[38;5;28;01mif\u001b[39;00m in1\u001b[38;5;241m.\u001b[39msize \u001b[38;5;241m==\u001b[39m \u001b[38;5;241m0\u001b[39m \u001b[38;5;129;01mor\u001b[39;00m in2\u001b[38;5;241m.\u001b[39msize \u001b[38;5;241m==\u001b[39m \u001b[38;5;241m0\u001b[39m:\n\u001b[1;32m     46\u001b[0m   \u001b[38;5;28;01mraise\u001b[39;00m \u001b[38;5;167;01mValueError\u001b[39;00m(\u001b[38;5;124mf\u001b[39m\u001b[38;5;124m\"\u001b[39m\u001b[38;5;124mzero-size arrays not supported in convolutions, got shapes \u001b[39m\u001b[38;5;132;01m{\u001b[39;00min1\u001b[38;5;241m.\u001b[39mshape\u001b[38;5;132;01m}\u001b[39;00m\u001b[38;5;124m and \u001b[39m\u001b[38;5;132;01m{\u001b[39;00min2\u001b[38;5;241m.\u001b[39mshape\u001b[38;5;132;01m}\u001b[39;00m\u001b[38;5;124m.\u001b[39m\u001b[38;5;124m\"\u001b[39m)\n",
      "\u001b[0;31mValueError\u001b[0m: in1 and in2 must have the same number of dimensions"
     ]
    }
   ],
   "source": [
    "#grad_ms_ssim = vmap(grad(ms_ssim), in_axes=(None, None, None, None, None, None, None), out_axes=(None, 0, 1))\n",
    "\n",
    "# Example usage\n",
    "img1 = seed[...,:4]\n",
    "img2 = seed2[...,:4]\n",
    "max_val = 1.0\n",
    "levels = 5\n",
    "size = 11\n",
    "sigma = 1.5\n",
    "\n",
    "loss = ms_ssim(img1, img2, max_val=max_val, levels=levels, size=size, sigma=sigma)\n",
    "loss"
   ]
  },
  {
   "cell_type": "code",
   "execution_count": 5,
   "id": "86ff28c3-9356-4b75-9502-3f905afbc1a2",
   "metadata": {
    "execution": {
     "iopub.execute_input": "2023-04-07T14:45:00.590054Z",
     "iopub.status.busy": "2023-04-07T14:45:00.589713Z",
     "iopub.status.idle": "2023-04-07T14:45:00.842661Z",
     "shell.execute_reply": "2023-04-07T14:45:00.842161Z",
     "shell.execute_reply.started": "2023-04-07T14:45:00.590039Z"
    },
    "tags": []
   },
   "outputs": [],
   "source": [
    "test = eqx.nn.Linear(hidden_channels, num_channels, key=x_key, use_bias=False)"
   ]
  },
  {
   "cell_type": "code",
   "execution_count": 10,
   "id": "8942f332-a0f0-4346-b54b-2e7bd8bb9e4b",
   "metadata": {
    "execution": {
     "iopub.execute_input": "2023-04-07T14:46:32.036805Z",
     "iopub.status.busy": "2023-04-07T14:46:32.036467Z",
     "iopub.status.idle": "2023-04-07T14:46:32.058598Z",
     "shell.execute_reply": "2023-04-07T14:46:32.057817Z",
     "shell.execute_reply.started": "2023-04-07T14:46:32.036779Z"
    },
    "tags": []
   },
   "outputs": [
    {
     "data": {
      "text/plain": [
       "Array([0., 0., 0., 0., 0., 0., 0., 0., 0., 0., 0., 0., 0., 0., 0., 0.],      dtype=float32)"
      ]
     },
     "execution_count": 10,
     "metadata": {},
     "output_type": "execute_result"
    }
   ],
   "source": [
    "test(jnp.zeros((64)))"
   ]
  },
  {
   "cell_type": "code",
   "execution_count": 20,
   "id": "18b95f6a-c3e7-49fd-b698-60dbbec0abc6",
   "metadata": {
    "execution": {
     "iopub.execute_input": "2023-04-07T14:51:59.241620Z",
     "iopub.status.busy": "2023-04-07T14:51:59.241240Z",
     "iopub.status.idle": "2023-04-07T14:51:59.248979Z",
     "shell.execute_reply": "2023-04-07T14:51:59.248492Z",
     "shell.execute_reply.started": "2023-04-07T14:51:59.241588Z"
    },
    "tags": []
   },
   "outputs": [],
   "source": [
    "from PIL import Image\n",
    "image = Image.open(\"namerena.png\")\n",
    "target_img = jnp.float32(image)/255.0\n",
    "\n",
    "import jax.image as jim\n",
    "#target_img = jnp.array(image)\n",
    "target_img = jim.resize(target_img, (40,40,4), method=\"bilinear\")"
   ]
  },
  {
   "cell_type": "code",
   "execution_count": 56,
   "id": "22b69cf8-815d-4982-b8da-27b09d86ecee",
   "metadata": {
    "execution": {
     "iopub.execute_input": "2023-04-07T15:04:34.360116Z",
     "iopub.status.busy": "2023-04-07T15:04:34.359742Z",
     "iopub.status.idle": "2023-04-07T15:04:34.372269Z",
     "shell.execute_reply": "2023-04-07T15:04:34.371451Z",
     "shell.execute_reply.started": "2023-04-07T15:04:34.360085Z"
    },
    "tags": []
   },
   "outputs": [],
   "source": [
    "a = update(x_key)"
   ]
  },
  {
   "cell_type": "code",
   "execution_count": 57,
   "id": "54653891-b30e-414f-9205-92921ac5caa2",
   "metadata": {
    "execution": {
     "iopub.execute_input": "2023-04-07T15:04:36.826011Z",
     "iopub.status.busy": "2023-04-07T15:04:36.825631Z",
     "iopub.status.idle": "2023-04-07T15:04:36.913642Z",
     "shell.execute_reply": "2023-04-07T15:04:36.912973Z",
     "shell.execute_reply.started": "2023-04-07T15:04:36.825968Z"
    },
    "tags": []
   },
   "outputs": [
    {
     "name": "stdout",
     "output_type": "stream",
     "text": [
      "(5184, 48)\n"
     ]
    },
    {
     "ename": "TypeError",
     "evalue": "dot_general requires contracting dimensions to have the same shape, got (64,) and (48,).",
     "output_type": "error",
     "traceback": [
      "\u001b[0;31m---------------------------------------------------------------------------\u001b[0m",
      "\u001b[0;31mTypeError\u001b[0m                                 Traceback (most recent call last)",
      "Cell \u001b[0;32mIn[57], line 1\u001b[0m\n\u001b[0;32m----> 1\u001b[0m \u001b[43ma\u001b[49m\u001b[43m(\u001b[49m\u001b[38;5;241;43m14\u001b[39;49m\u001b[43m,\u001b[49m\u001b[43mjnp\u001b[49m\u001b[38;5;241;43m.\u001b[39;49m\u001b[43mones\u001b[49m\u001b[43m(\u001b[49m\u001b[43m(\u001b[49m\u001b[38;5;241;43m72\u001b[39;49m\u001b[43m,\u001b[49m\u001b[38;5;241;43m72\u001b[39;49m\u001b[43m,\u001b[49m\u001b[38;5;241;43m16\u001b[39;49m\u001b[43m)\u001b[49m\u001b[43m)\u001b[49m\u001b[43m,\u001b[49m\u001b[38;5;241;43m0\u001b[39;49m\u001b[43m)\u001b[49m\n",
      "Cell \u001b[0;32mIn[55], line 49\u001b[0m, in \u001b[0;36mupdate.__call__\u001b[0;34m(self, t, y, args)\u001b[0m\n\u001b[1;32m     47\u001b[0m \u001b[38;5;28mprint\u001b[39m(perceive\u001b[38;5;241m.\u001b[39mshape)\n\u001b[1;32m     48\u001b[0m \u001b[38;5;28;01mfor\u001b[39;00m layer \u001b[38;5;129;01min\u001b[39;00m \u001b[38;5;28mself\u001b[39m\u001b[38;5;241m.\u001b[39mmlp:\n\u001b[0;32m---> 49\u001b[0m     x \u001b[38;5;241m=\u001b[39m \u001b[43mvmap\u001b[49m\u001b[43m(\u001b[49m\u001b[43mlayer\u001b[49m\u001b[43m)\u001b[49m\u001b[43m(\u001b[49m\u001b[43mperceive\u001b[49m\u001b[43m)\u001b[49m\n\u001b[1;32m     50\u001b[0m \u001b[38;5;66;03m#for layer2 in self.gate:\u001b[39;00m\n\u001b[1;32m     51\u001b[0m  \u001b[38;5;66;03m#   gate = vmap(layer2)(perceive)\u001b[39;00m\n\u001b[1;32m     52\u001b[0m \u001b[38;5;66;03m#gate = jnp.reshape(gate, (72, 72, num_channels))\u001b[39;00m\n\u001b[1;32m     53\u001b[0m x \u001b[38;5;241m=\u001b[39m jnp\u001b[38;5;241m.\u001b[39mreshape(x, (\u001b[38;5;241m72\u001b[39m, \u001b[38;5;241m72\u001b[39m, num_channels))\n",
      "    \u001b[0;31m[... skipping hidden 3 frame]\u001b[0m\n",
      "File \u001b[0;32m/output/jax/lib/python3.10/site-packages/equinox/nn/linear.py:76\u001b[0m, in \u001b[0;36mLinear.__call__\u001b[0;34m(self, x, key)\u001b[0m\n\u001b[1;32m     51\u001b[0m \u001b[38;5;28;01mdef\u001b[39;00m \u001b[38;5;21m__call__\u001b[39m(\n\u001b[1;32m     52\u001b[0m     \u001b[38;5;28mself\u001b[39m, x: Array, \u001b[38;5;241m*\u001b[39m, key: Optional[\u001b[38;5;124m\"\u001b[39m\u001b[38;5;124mjax.random.PRNGKey\u001b[39m\u001b[38;5;124m\"\u001b[39m] \u001b[38;5;241m=\u001b[39m \u001b[38;5;28;01mNone\u001b[39;00m\n\u001b[1;32m     53\u001b[0m ) \u001b[38;5;241m-\u001b[39m\u001b[38;5;241m>\u001b[39m Array:\n\u001b[1;32m     54\u001b[0m \u001b[38;5;250m    \u001b[39m\u001b[38;5;124;03m\"\"\"**Arguments:**\u001b[39;00m\n\u001b[1;32m     55\u001b[0m \n\u001b[1;32m     56\u001b[0m \u001b[38;5;124;03m    - `x`: The input. Should be a JAX array of shape `(in_features,)`.\u001b[39;00m\n\u001b[0;32m   (...)\u001b[0m\n\u001b[1;32m     73\u001b[0m \u001b[38;5;124;03m    A JAX array of shape `(out_features,)`\u001b[39;00m\n\u001b[1;32m     74\u001b[0m \u001b[38;5;124;03m    \"\"\"\u001b[39;00m\n\u001b[0;32m---> 76\u001b[0m     x \u001b[38;5;241m=\u001b[39m \u001b[38;5;28;43mself\u001b[39;49m\u001b[38;5;241;43m.\u001b[39;49m\u001b[43mweight\u001b[49m\u001b[43m \u001b[49m\u001b[38;5;241;43m@\u001b[39;49m\u001b[43m \u001b[49m\u001b[43mx\u001b[49m\n\u001b[1;32m     77\u001b[0m     \u001b[38;5;28;01mif\u001b[39;00m \u001b[38;5;28mself\u001b[39m\u001b[38;5;241m.\u001b[39mbias \u001b[38;5;129;01mis\u001b[39;00m \u001b[38;5;129;01mnot\u001b[39;00m \u001b[38;5;28;01mNone\u001b[39;00m:\n\u001b[1;32m     78\u001b[0m         x \u001b[38;5;241m=\u001b[39m x \u001b[38;5;241m+\u001b[39m \u001b[38;5;28mself\u001b[39m\u001b[38;5;241m.\u001b[39mbias\n",
      "File \u001b[0;32m/output/jax/lib/python3.10/site-packages/jax/_src/numpy/lax_numpy.py:5112\u001b[0m, in \u001b[0;36m_defer_to_unrecognized_arg.<locals>.deferring_binary_op\u001b[0;34m(self, other)\u001b[0m\n\u001b[1;32m   5110\u001b[0m args \u001b[38;5;241m=\u001b[39m (other, \u001b[38;5;28mself\u001b[39m) \u001b[38;5;28;01mif\u001b[39;00m swap \u001b[38;5;28;01melse\u001b[39;00m (\u001b[38;5;28mself\u001b[39m, other)\n\u001b[1;32m   5111\u001b[0m \u001b[38;5;28;01mif\u001b[39;00m \u001b[38;5;28misinstance\u001b[39m(other, _accepted_binop_types):\n\u001b[0;32m-> 5112\u001b[0m   \u001b[38;5;28;01mreturn\u001b[39;00m \u001b[43mbinary_op\u001b[49m\u001b[43m(\u001b[49m\u001b[38;5;241;43m*\u001b[39;49m\u001b[43margs\u001b[49m\u001b[43m)\u001b[49m\n\u001b[1;32m   5113\u001b[0m \u001b[38;5;28;01mif\u001b[39;00m \u001b[38;5;28misinstance\u001b[39m(other, _rejected_binop_types):\n\u001b[1;32m   5114\u001b[0m   \u001b[38;5;28;01mraise\u001b[39;00m \u001b[38;5;167;01mTypeError\u001b[39;00m(\u001b[38;5;124mf\u001b[39m\u001b[38;5;124m\"\u001b[39m\u001b[38;5;124munsupported operand type(s) for \u001b[39m\u001b[38;5;132;01m{\u001b[39;00mopchar\u001b[38;5;132;01m}\u001b[39;00m\u001b[38;5;124m: \u001b[39m\u001b[38;5;124m\"\u001b[39m\n\u001b[1;32m   5115\u001b[0m                   \u001b[38;5;124mf\u001b[39m\u001b[38;5;124m\"\u001b[39m\u001b[38;5;132;01m{\u001b[39;00m\u001b[38;5;28mtype\u001b[39m(args[\u001b[38;5;241m0\u001b[39m])\u001b[38;5;241m.\u001b[39m\u001b[38;5;18m__name__\u001b[39m\u001b[38;5;132;01m!r}\u001b[39;00m\u001b[38;5;124m and \u001b[39m\u001b[38;5;132;01m{\u001b[39;00m\u001b[38;5;28mtype\u001b[39m(args[\u001b[38;5;241m1\u001b[39m])\u001b[38;5;241m.\u001b[39m\u001b[38;5;18m__name__\u001b[39m\u001b[38;5;132;01m!r}\u001b[39;00m\u001b[38;5;124m\"\u001b[39m)\n",
      "    \u001b[0;31m[... skipping hidden 12 frame]\u001b[0m\n",
      "File \u001b[0;32m/output/jax/lib/python3.10/site-packages/jax/_src/numpy/lax_numpy.py:3048\u001b[0m, in \u001b[0;36mmatmul\u001b[0;34m(a, b, precision)\u001b[0m\n\u001b[1;32m   3046\u001b[0m a \u001b[38;5;241m=\u001b[39m lax\u001b[38;5;241m.\u001b[39msqueeze(a, \u001b[38;5;28mtuple\u001b[39m(a_squeeze))\n\u001b[1;32m   3047\u001b[0m b \u001b[38;5;241m=\u001b[39m lax\u001b[38;5;241m.\u001b[39msqueeze(b, \u001b[38;5;28mtuple\u001b[39m(b_squeeze))\n\u001b[0;32m-> 3048\u001b[0m out \u001b[38;5;241m=\u001b[39m \u001b[43mlax\u001b[49m\u001b[38;5;241;43m.\u001b[39;49m\u001b[43mdot_general\u001b[49m\u001b[43m(\u001b[49m\n\u001b[1;32m   3049\u001b[0m \u001b[43m  \u001b[49m\u001b[43ma\u001b[49m\u001b[43m,\u001b[49m\u001b[43m \u001b[49m\u001b[43mb\u001b[49m\u001b[43m,\u001b[49m\u001b[43m \u001b[49m\u001b[43m(\u001b[49m\u001b[43m(\u001b[49m\u001b[43m(\u001b[49m\u001b[43mndim\u001b[49m\u001b[43m(\u001b[49m\u001b[43ma\u001b[49m\u001b[43m)\u001b[49m\u001b[43m \u001b[49m\u001b[38;5;241;43m-\u001b[39;49m\u001b[43m \u001b[49m\u001b[38;5;241;43m1\u001b[39;49m\u001b[43m,\u001b[49m\u001b[43m)\u001b[49m\u001b[43m,\u001b[49m\u001b[43m \u001b[49m\u001b[43m(\u001b[49m\u001b[43mndim\u001b[49m\u001b[43m(\u001b[49m\u001b[43mb\u001b[49m\u001b[43m)\u001b[49m\u001b[43m \u001b[49m\u001b[38;5;241;43m-\u001b[39;49m\u001b[43m \u001b[49m\u001b[38;5;241;43m1\u001b[39;49m\u001b[43m \u001b[49m\u001b[38;5;241;43m-\u001b[39;49m\u001b[43m \u001b[49m\u001b[43mb_is_mat\u001b[49m\u001b[43m,\u001b[49m\u001b[43m)\u001b[49m\u001b[43m)\u001b[49m\u001b[43m,\u001b[49m\u001b[43m \u001b[49m\u001b[43m(\u001b[49m\u001b[43ma_batch\u001b[49m\u001b[43m,\u001b[49m\u001b[43m \u001b[49m\u001b[43mb_batch\u001b[49m\u001b[43m)\u001b[49m\u001b[43m)\u001b[49m\u001b[43m,\u001b[49m\n\u001b[1;32m   3050\u001b[0m \u001b[43m  \u001b[49m\u001b[43mprecision\u001b[49m\u001b[38;5;241;43m=\u001b[39;49m\u001b[43mprecision\u001b[49m\u001b[43m)\u001b[49m\n\u001b[1;32m   3051\u001b[0m \u001b[38;5;28;01mreturn\u001b[39;00m lax\u001b[38;5;241m.\u001b[39mtranspose(out, perm)\n",
      "    \u001b[0;31m[... skipping hidden 7 frame]\u001b[0m\n",
      "File \u001b[0;32m/output/jax/lib/python3.10/site-packages/jax/_src/lax/lax.py:2577\u001b[0m, in \u001b[0;36m_dot_general_shape_rule\u001b[0;34m(lhs, rhs, dimension_numbers, precision, preferred_element_type)\u001b[0m\n\u001b[1;32m   2574\u001b[0m \u001b[38;5;28;01mif\u001b[39;00m \u001b[38;5;129;01mnot\u001b[39;00m core\u001b[38;5;241m.\u001b[39msymbolic_equal_shape(lhs_contracting_shape, rhs_contracting_shape):\n\u001b[1;32m   2575\u001b[0m   msg \u001b[38;5;241m=\u001b[39m (\u001b[38;5;124m\"\u001b[39m\u001b[38;5;124mdot_general requires contracting dimensions to have the same \u001b[39m\u001b[38;5;124m\"\u001b[39m\n\u001b[1;32m   2576\u001b[0m          \u001b[38;5;124m\"\u001b[39m\u001b[38;5;124mshape, got \u001b[39m\u001b[38;5;132;01m{}\u001b[39;00m\u001b[38;5;124m and \u001b[39m\u001b[38;5;132;01m{}\u001b[39;00m\u001b[38;5;124m.\u001b[39m\u001b[38;5;124m\"\u001b[39m)\n\u001b[0;32m-> 2577\u001b[0m   \u001b[38;5;28;01mraise\u001b[39;00m \u001b[38;5;167;01mTypeError\u001b[39;00m(msg\u001b[38;5;241m.\u001b[39mformat(lhs_contracting_shape, rhs_contracting_shape))\n\u001b[1;32m   2579\u001b[0m \u001b[38;5;28;01mreturn\u001b[39;00m _dot_general_shape_computation(lhs\u001b[38;5;241m.\u001b[39mshape, rhs\u001b[38;5;241m.\u001b[39mshape, dimension_numbers)\n",
      "\u001b[0;31mTypeError\u001b[0m: dot_general requires contracting dimensions to have the same shape, got (64,) and (48,)."
     ]
    }
   ],
   "source": [
    "a(14,jnp.ones((72,72,16)),0)"
   ]
  },
  {
   "cell_type": "code",
   "execution_count": null,
   "id": "3cef60ca-387b-4483-b34a-2eb859a49c35",
   "metadata": {},
   "outputs": [],
   "source": []
  }
 ],
 "metadata": {
  "kernelspec": {
   "display_name": "jax",
   "language": "python",
   "name": "jax"
  },
  "language_info": {
   "codemirror_mode": {
    "name": "ipython",
    "version": 3
   },
   "file_extension": ".py",
   "mimetype": "text/x-python",
   "name": "python",
   "nbconvert_exporter": "python",
   "pygments_lexer": "ipython3",
   "version": "3.10.9"
  }
 },
 "nbformat": 4,
 "nbformat_minor": 5
}
